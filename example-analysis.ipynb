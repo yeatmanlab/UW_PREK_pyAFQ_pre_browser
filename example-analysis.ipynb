{
 "cells": [
  {
   "cell_type": "markdown",
   "metadata": {},
   "source": [
    "# Example analysis\n",
    "\n",
    "This notebook provides a generic example for some analysis that you might want to conduct with the data provided through this AFQ-Browser instance. Note that this is just an example, and not may be a good approach to the data in this particular instance of the AFQ-Browser, and this data-set. Ultimately, the limits of the analysis you could do are the limits of your imagination."
   ]
  },
  {
   "cell_type": "code",
   "execution_count": 1,
   "metadata": {
    "collapsed": true
   },
   "outputs": [],
   "source": [
    "%matplotlib inline"
   ]
  },
  {
   "cell_type": "code",
   "execution_count": 2,
   "metadata": {
    "collapsed": true
   },
   "outputs": [],
   "source": [
    "import pandas as pd"
   ]
  },
  {
   "cell_type": "code",
   "execution_count": 3,
   "metadata": {
    "collapsed": true
   },
   "outputs": [],
   "source": [
    "subjects = pd.read_csv('./data/subjects.csv')"
   ]
  },
  {
   "cell_type": "code",
   "execution_count": 4,
   "metadata": {
    "collapsed": true
   },
   "outputs": [],
   "source": [
    "nodes = pd.read_csv('./data/nodes.csv')"
   ]
  },
  {
   "cell_type": "markdown",
   "metadata": {},
   "source": [
    "### Merging nodes and subjects\n",
    "\n",
    "The data from nodes (referring to diffusion statistics along the length of the tracts) can be merged together with the data about subjects into one table:"
   ]
  },
  {
   "cell_type": "code",
   "execution_count": 5,
   "metadata": {
    "collapsed": true
   },
   "outputs": [],
   "source": [
    "merged = pd.merge(nodes, subjects, on=\"subjectID\")"
   ]
  },
  {
   "cell_type": "code",
   "execution_count": 6,
   "metadata": {},
   "outputs": [
    {
     "data": {
      "text/html": [
       "<div>\n",
       "<style>\n",
       "    .dataframe thead tr:only-child th {\n",
       "        text-align: right;\n",
       "    }\n",
       "\n",
       "    .dataframe thead th {\n",
       "        text-align: left;\n",
       "    }\n",
       "\n",
       "    .dataframe tbody tr th {\n",
       "        vertical-align: top;\n",
       "    }\n",
       "</style>\n",
       "<table border=\"1\" class=\"dataframe\">\n",
       "  <thead>\n",
       "    <tr style=\"text-align: right;\">\n",
       "      <th></th>\n",
       "      <th>subjectID</th>\n",
       "      <th>tractID</th>\n",
       "      <th>nodeID</th>\n",
       "      <th>rd</th>\n",
       "      <th>md</th>\n",
       "      <th>cl</th>\n",
       "      <th>torsion</th>\n",
       "      <th>curvature</th>\n",
       "      <th>fa</th>\n",
       "      <th>ad</th>\n",
       "      <th>volume</th>\n",
       "      <th>Unnamed: 0</th>\n",
       "      <th>patient</th>\n",
       "      <th>score</th>\n",
       "      <th>session</th>\n",
       "    </tr>\n",
       "  </thead>\n",
       "  <tbody>\n",
       "    <tr>\n",
       "      <th>0</th>\n",
       "      <td>patient_01</td>\n",
       "      <td>Left Thalamic Radiation</td>\n",
       "      <td>0</td>\n",
       "      <td>0.613340</td>\n",
       "      <td>0.851832</td>\n",
       "      <td>0.257362</td>\n",
       "      <td>-0.065856</td>\n",
       "      <td>0.137844</td>\n",
       "      <td>0.452992</td>\n",
       "      <td>1.328816</td>\n",
       "      <td>70.0</td>\n",
       "      <td>0</td>\n",
       "      <td>1</td>\n",
       "      <td>0.194764</td>\n",
       "      <td>1</td>\n",
       "    </tr>\n",
       "    <tr>\n",
       "      <th>1</th>\n",
       "      <td>patient_01</td>\n",
       "      <td>Left Thalamic Radiation</td>\n",
       "      <td>1</td>\n",
       "      <td>0.611204</td>\n",
       "      <td>0.848955</td>\n",
       "      <td>0.256652</td>\n",
       "      <td>-0.087893</td>\n",
       "      <td>0.153220</td>\n",
       "      <td>0.453549</td>\n",
       "      <td>1.324456</td>\n",
       "      <td>60.0</td>\n",
       "      <td>0</td>\n",
       "      <td>1</td>\n",
       "      <td>0.194764</td>\n",
       "      <td>1</td>\n",
       "    </tr>\n",
       "    <tr>\n",
       "      <th>2</th>\n",
       "      <td>patient_01</td>\n",
       "      <td>Left Thalamic Radiation</td>\n",
       "      <td>2</td>\n",
       "      <td>0.608178</td>\n",
       "      <td>0.843154</td>\n",
       "      <td>0.254787</td>\n",
       "      <td>-0.244466</td>\n",
       "      <td>0.092622</td>\n",
       "      <td>0.452349</td>\n",
       "      <td>1.313105</td>\n",
       "      <td>76.0</td>\n",
       "      <td>0</td>\n",
       "      <td>1</td>\n",
       "      <td>0.194764</td>\n",
       "      <td>1</td>\n",
       "    </tr>\n",
       "    <tr>\n",
       "      <th>3</th>\n",
       "      <td>patient_01</td>\n",
       "      <td>Left Thalamic Radiation</td>\n",
       "      <td>3</td>\n",
       "      <td>0.604815</td>\n",
       "      <td>0.837168</td>\n",
       "      <td>0.253062</td>\n",
       "      <td>-0.533194</td>\n",
       "      <td>0.027443</td>\n",
       "      <td>0.451471</td>\n",
       "      <td>1.301873</td>\n",
       "      <td>55.0</td>\n",
       "      <td>0</td>\n",
       "      <td>1</td>\n",
       "      <td>0.194764</td>\n",
       "      <td>1</td>\n",
       "    </tr>\n",
       "    <tr>\n",
       "      <th>4</th>\n",
       "      <td>patient_01</td>\n",
       "      <td>Left Thalamic Radiation</td>\n",
       "      <td>4</td>\n",
       "      <td>0.601006</td>\n",
       "      <td>0.831444</td>\n",
       "      <td>0.251759</td>\n",
       "      <td>0.272117</td>\n",
       "      <td>0.047876</td>\n",
       "      <td>0.451726</td>\n",
       "      <td>1.292319</td>\n",
       "      <td>71.0</td>\n",
       "      <td>0</td>\n",
       "      <td>1</td>\n",
       "      <td>0.194764</td>\n",
       "      <td>1</td>\n",
       "    </tr>\n",
       "  </tbody>\n",
       "</table>\n",
       "</div>"
      ],
      "text/plain": [
       "    subjectID                  tractID  nodeID        rd        md        cl  \\\n",
       "0  patient_01  Left Thalamic Radiation       0  0.613340  0.851832  0.257362   \n",
       "1  patient_01  Left Thalamic Radiation       1  0.611204  0.848955  0.256652   \n",
       "2  patient_01  Left Thalamic Radiation       2  0.608178  0.843154  0.254787   \n",
       "3  patient_01  Left Thalamic Radiation       3  0.604815  0.837168  0.253062   \n",
       "4  patient_01  Left Thalamic Radiation       4  0.601006  0.831444  0.251759   \n",
       "\n",
       "    torsion  curvature        fa        ad  volume  Unnamed: 0  patient  \\\n",
       "0 -0.065856   0.137844  0.452992  1.328816    70.0           0        1   \n",
       "1 -0.087893   0.153220  0.453549  1.324456    60.0           0        1   \n",
       "2 -0.244466   0.092622  0.452349  1.313105    76.0           0        1   \n",
       "3 -0.533194   0.027443  0.451471  1.301873    55.0           0        1   \n",
       "4  0.272117   0.047876  0.451726  1.292319    71.0           0        1   \n",
       "\n",
       "      score  session  \n",
       "0  0.194764        1  \n",
       "1  0.194764        1  \n",
       "2  0.194764        1  \n",
       "3  0.194764        1  \n",
       "4  0.194764        1  "
      ]
     },
     "execution_count": 6,
     "metadata": {},
     "output_type": "execute_result"
    }
   ],
   "source": [
    "merged.head()"
   ]
  },
  {
   "cell_type": "markdown",
   "metadata": {},
   "source": [
    "### Visualizing the data \n",
    "\n",
    "You can use [Matplotlib](http://matplotlib.org/) and [Seaborn](https://seaborn.pydata.org/)  to visualize the data:"
   ]
  },
  {
   "cell_type": "code",
   "execution_count": 7,
   "metadata": {
    "collapsed": true
   },
   "outputs": [],
   "source": [
    "import matplotlib.pyplot as plt\n",
    "import seaborn as sns"
   ]
  },
  {
   "cell_type": "markdown",
   "metadata": {},
   "source": [
    "We focus on the calculated diffusion statistics that are included in the `nodes` table:"
   ]
  },
  {
   "cell_type": "code",
   "execution_count": 8,
   "metadata": {
    "collapsed": true
   },
   "outputs": [],
   "source": [
    "stats = nodes.columns.drop([\"subjectID\", \"tractID\", \"nodeID\"])"
   ]
  },
  {
   "cell_type": "markdown",
   "metadata": {},
   "source": [
    "And specifically on the very first one"
   ]
  },
  {
   "cell_type": "code",
   "execution_count": 9,
   "metadata": {},
   "outputs": [
    {
     "name": "stdout",
     "output_type": "stream",
     "text": [
      "rd\n"
     ]
    }
   ],
   "source": [
    "print(stats[0])"
   ]
  },
  {
   "cell_type": "code",
   "execution_count": 10,
   "metadata": {
    "collapsed": true
   },
   "outputs": [],
   "source": [
    "stat = merged[[\"nodeID\", \"subjectID\", \"tractID\", stats[0]]]"
   ]
  },
  {
   "cell_type": "markdown",
   "metadata": {},
   "source": [
    "Select a single tract:"
   ]
  },
  {
   "cell_type": "code",
   "execution_count": 11,
   "metadata": {
    "collapsed": true
   },
   "outputs": [],
   "source": [
    "tract_stat = stat[stat[\"tractID\"] == stat[\"tractID\"].values[0]]"
   ]
  },
  {
   "cell_type": "code",
   "execution_count": 12,
   "metadata": {},
   "outputs": [
    {
     "data": {
      "text/html": [
       "<div>\n",
       "<style>\n",
       "    .dataframe thead tr:only-child th {\n",
       "        text-align: right;\n",
       "    }\n",
       "\n",
       "    .dataframe thead th {\n",
       "        text-align: left;\n",
       "    }\n",
       "\n",
       "    .dataframe tbody tr th {\n",
       "        vertical-align: top;\n",
       "    }\n",
       "</style>\n",
       "<table border=\"1\" class=\"dataframe\">\n",
       "  <thead>\n",
       "    <tr style=\"text-align: right;\">\n",
       "      <th></th>\n",
       "      <th>nodeID</th>\n",
       "      <th>subjectID</th>\n",
       "      <th>tractID</th>\n",
       "      <th>rd</th>\n",
       "    </tr>\n",
       "  </thead>\n",
       "  <tbody>\n",
       "    <tr>\n",
       "      <th>0</th>\n",
       "      <td>0</td>\n",
       "      <td>patient_01</td>\n",
       "      <td>Left Thalamic Radiation</td>\n",
       "      <td>0.613340</td>\n",
       "    </tr>\n",
       "    <tr>\n",
       "      <th>1</th>\n",
       "      <td>1</td>\n",
       "      <td>patient_01</td>\n",
       "      <td>Left Thalamic Radiation</td>\n",
       "      <td>0.611204</td>\n",
       "    </tr>\n",
       "    <tr>\n",
       "      <th>2</th>\n",
       "      <td>2</td>\n",
       "      <td>patient_01</td>\n",
       "      <td>Left Thalamic Radiation</td>\n",
       "      <td>0.608178</td>\n",
       "    </tr>\n",
       "    <tr>\n",
       "      <th>3</th>\n",
       "      <td>3</td>\n",
       "      <td>patient_01</td>\n",
       "      <td>Left Thalamic Radiation</td>\n",
       "      <td>0.604815</td>\n",
       "    </tr>\n",
       "    <tr>\n",
       "      <th>4</th>\n",
       "      <td>4</td>\n",
       "      <td>patient_01</td>\n",
       "      <td>Left Thalamic Radiation</td>\n",
       "      <td>0.601006</td>\n",
       "    </tr>\n",
       "  </tbody>\n",
       "</table>\n",
       "</div>"
      ],
      "text/plain": [
       "   nodeID   subjectID                  tractID        rd\n",
       "0       0  patient_01  Left Thalamic Radiation  0.613340\n",
       "1       1  patient_01  Left Thalamic Radiation  0.611204\n",
       "2       2  patient_01  Left Thalamic Radiation  0.608178\n",
       "3       3  patient_01  Left Thalamic Radiation  0.604815\n",
       "4       4  patient_01  Left Thalamic Radiation  0.601006"
      ]
     },
     "execution_count": 12,
     "metadata": {},
     "output_type": "execute_result"
    }
   ],
   "source": [
    "tract_stat.head()"
   ]
  },
  {
   "cell_type": "code",
   "execution_count": 13,
   "metadata": {
    "collapsed": true
   },
   "outputs": [],
   "source": [
    "tract_p = tract_stat.pivot(index='nodeID', columns='subjectID', values=stats[0]) "
   ]
  },
  {
   "cell_type": "code",
   "execution_count": 14,
   "metadata": {
    "collapsed": true
   },
   "outputs": [],
   "source": [
    "import numpy as np"
   ]
  },
  {
   "cell_type": "code",
   "execution_count": 15,
   "metadata": {},
   "outputs": [
    {
     "name": "stderr",
     "output_type": "stream",
     "text": [
      "/Users/arokem/anaconda3/lib/python3.5/site-packages/seaborn/timeseries.py:183: UserWarning: The tsplot function is deprecated and will be removed or replaced (in a substantially altered version) in a future release.\n",
      "  warnings.warn(msg, UserWarning)\n",
      "/Users/arokem/anaconda3/lib/python3.5/site-packages/seaborn/algorithms.py:76: RuntimeWarning: Mean of empty slice\n",
      "  boot_dist.append(func(*sample, **func_kwargs))\n"
     ]
    },
    {
     "data": {
      "text/plain": [
       "<matplotlib.axes._subplots.AxesSubplot at 0x1a1692f2b0>"
      ]
     },
     "execution_count": 15,
     "metadata": {},
     "output_type": "execute_result"
    },
    {
     "data": {
      "image/png": "[encoded data removed]",
      "text/plain": [
       "<matplotlib.figure.Figure at 0x1a168fbb70>"
      ]
     },
     "metadata": {},
     "output_type": "display_data"
    }
   ],
   "source": [
    "sns.tsplot(tract_p.values.T, err_style=\"unit_traces\", estimator=np.nanmean)"
   ]
  },
  {
   "cell_type": "markdown",
   "metadata": {},
   "source": [
    "### Analyzing data \n",
    "\n",
    "As an example of one approach to AFQ data, we include here an example of how you might use [Scikit Learn's implementation of the K-means algorithm](http://scikit-learn.org/stable/modules/generated/sklearn.cluster.KMeans.html) to cluster the subjects in these data into two clusters, based on this statistic/tract combination."
   ]
  },
  {
   "cell_type": "code",
   "execution_count": 16,
   "metadata": {
    "collapsed": true
   },
   "outputs": [],
   "source": [
    "from sklearn.cluster import KMeans \n",
    "from sklearn.preprocessing import Imputer\n",
    "from sklearn.pipeline import Pipeline"
   ]
  },
  {
   "cell_type": "markdown",
   "metadata": {},
   "source": [
    "We create a pipeline that imputes nan values (that sometimes occur in tract profiles), and clusters the results into two clusters:"
   ]
  },
  {
   "cell_type": "code",
   "execution_count": 17,
   "metadata": {
    "collapsed": true
   },
   "outputs": [],
   "source": [
    "estimator = Pipeline([(\"impute\", Imputer()), (\"cluster\", KMeans(n_clusters=2))])"
   ]
  },
  {
   "cell_type": "markdown",
   "metadata": {},
   "source": [
    "We compute the clusters and transform the data into cluster distance space"
   ]
  },
  {
   "cell_type": "code",
   "execution_count": 18,
   "metadata": {
    "collapsed": true
   },
   "outputs": [],
   "source": [
    "clusters = estimator.fit(tract_p.values.T).steps[1][1]"
   ]
  },
  {
   "cell_type": "code",
   "execution_count": 19,
   "metadata": {
    "collapsed": true
   },
   "outputs": [],
   "source": [
    "labels = clusters.labels_"
   ]
  },
  {
   "cell_type": "code",
   "execution_count": 20,
   "metadata": {
    "collapsed": true
   },
   "outputs": [],
   "source": [
    "x, y = estimator.fit_transform(tract_p.values.T).T"
   ]
  },
  {
   "cell_type": "markdown",
   "metadata": {},
   "source": [
    "We plot the results in the latent cluster space"
   ]
  },
  {
   "cell_type": "code",
   "execution_count": 21,
   "metadata": {},
   "outputs": [
    {
     "data": {
      "text/plain": [
       "<matplotlib.collections.PathCollection at 0x1a173820f0>"
      ]
     },
     "execution_count": 21,
     "metadata": {},
     "output_type": "execute_result"
    },
    {
     "data": {
      "image/png": "[encoded data removed]",
      "text/plain": [
       "<matplotlib.figure.Figure at 0x1a1722f9e8>"
      ]
     },
     "metadata": {},
     "output_type": "display_data"
    }
   ],
   "source": [
    "plt.scatter(x, y, c=labels.astype(np.float))"
   ]
  },
  {
   "cell_type": "code",
   "execution_count": null,
   "metadata": {
    "collapsed": true
   },
   "outputs": [],
   "source": []
  }
 ],
 "metadata": {
  "kernelspec": {
   "display_name": "Python 3",
   "language": "python",
   "name": "python3"
  },
  "language_info": {
   "codemirror_mode": {
    "name": "ipython",
    "version": 3
   },
   "file_extension": ".py",
   "mimetype": "text/x-python",
   "name": "python",
   "nbconvert_exporter": "python",
   "pygments_lexer": "ipython3",
   "version": "3.5.4"
  }
 },
 "nbformat": 4,
 "nbformat_minor": 2
}
