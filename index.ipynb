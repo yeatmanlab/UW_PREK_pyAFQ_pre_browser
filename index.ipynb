{
 "cells": [
  {
   "cell_type": "markdown",
   "metadata": {},
   "source": [
    "# Welcome to the AFQ-Browser exploratory notebook\n",
    "\n",
    "### What is this thing? \n",
    "\n",
    "This is a [Jupyter](http://jupyter.org/) notebook. You can add code cells to this notebook, and execute Python code that you write in these cells, by pressing the shift and enter keys on your keyboard.\n",
    "\n",
    "For example:"
   ]
  },
  {
   "cell_type": "code",
   "execution_count": 1,
   "metadata": {},
   "outputs": [
    {
     "name": "stdout",
     "output_type": "stream",
     "text": [
      "1\n"
     ]
    }
   ],
   "source": [
    "a = 1\n",
    "print(a)"
   ]
  },
  {
   "cell_type": "markdown",
   "metadata": {},
   "source": [
    "To embed figures in the notebook, please use the following Jupyter command at the top of your notebook:"
   ]
  },
  {
   "cell_type": "code",
   "execution_count": 2,
   "metadata": {
    "collapsed": true
   },
   "outputs": [],
   "source": [
    "%matplotlib inline"
   ]
  },
  {
   "cell_type": "markdown",
   "metadata": {},
   "source": [
    "### Reading AFQ-browser data\n",
    "\n",
    "To read data in from the AFQ-browser, you can use the [Pandas](pandas.pydata.org) library. "
   ]
  },
  {
   "cell_type": "code",
   "execution_count": 3,
   "metadata": {
    "collapsed": true
   },
   "outputs": [],
   "source": [
    "import pandas as pd"
   ]
  },
  {
   "cell_type": "code",
   "execution_count": 4,
   "metadata": {
    "collapsed": true
   },
   "outputs": [],
   "source": [
    "subjects = pd.read_csv('./data/subjects.csv')"
   ]
  },
  {
   "cell_type": "code",
   "execution_count": 5,
   "metadata": {},
   "outputs": [
    {
     "data": {
      "text/html": [
       "<div>\n",
       "<style>\n",
       "    .dataframe thead tr:only-child th {\n",
       "        text-align: right;\n",
       "    }\n",
       "\n",
       "    .dataframe thead th {\n",
       "        text-align: left;\n",
       "    }\n",
       "\n",
       "    .dataframe tbody tr th {\n",
       "        vertical-align: top;\n",
       "    }\n",
       "</style>\n",
       "<table border=\"1\" class=\"dataframe\">\n",
       "  <thead>\n",
       "    <tr style=\"text-align: right;\">\n",
       "      <th></th>\n",
       "      <th>Unnamed: 0</th>\n",
       "      <th>patient</th>\n",
       "      <th>score</th>\n",
       "      <th>session</th>\n",
       "      <th>subjectID</th>\n",
       "    </tr>\n",
       "  </thead>\n",
       "  <tbody>\n",
       "    <tr>\n",
       "      <th>0</th>\n",
       "      <td>0</td>\n",
       "      <td>1</td>\n",
       "      <td>0.194764</td>\n",
       "      <td>1</td>\n",
       "      <td>patient_01</td>\n",
       "    </tr>\n",
       "    <tr>\n",
       "      <th>1</th>\n",
       "      <td>1</td>\n",
       "      <td>1</td>\n",
       "      <td>0.225922</td>\n",
       "      <td>1</td>\n",
       "      <td>patient_02</td>\n",
       "    </tr>\n",
       "    <tr>\n",
       "      <th>2</th>\n",
       "      <td>2</td>\n",
       "      <td>1</td>\n",
       "      <td>0.170708</td>\n",
       "      <td>1</td>\n",
       "      <td>patient_03</td>\n",
       "    </tr>\n",
       "    <tr>\n",
       "      <th>3</th>\n",
       "      <td>3</td>\n",
       "      <td>0</td>\n",
       "      <td>0.227664</td>\n",
       "      <td>1</td>\n",
       "      <td>control_01</td>\n",
       "    </tr>\n",
       "    <tr>\n",
       "      <th>4</th>\n",
       "      <td>4</td>\n",
       "      <td>0</td>\n",
       "      <td>0.435699</td>\n",
       "      <td>1</td>\n",
       "      <td>control_02</td>\n",
       "    </tr>\n",
       "  </tbody>\n",
       "</table>\n",
       "</div>"
      ],
      "text/plain": [
       "   Unnamed: 0  patient     score  session   subjectID\n",
       "0           0        1  0.194764        1  patient_01\n",
       "1           1        1  0.225922        1  patient_02\n",
       "2           2        1  0.170708        1  patient_03\n",
       "3           3        0  0.227664        1  control_01\n",
       "4           4        0  0.435699        1  control_02"
      ]
     },
     "execution_count": 5,
     "metadata": {},
     "output_type": "execute_result"
    }
   ],
   "source": [
    "subjects.head()"
   ]
  },
  {
   "cell_type": "code",
   "execution_count": 6,
   "metadata": {
    "collapsed": true
   },
   "outputs": [],
   "source": [
    "nodes = pd.read_csv('./data/nodes.csv')"
   ]
  },
  {
   "cell_type": "code",
   "execution_count": 7,
   "metadata": {},
   "outputs": [
    {
     "data": {
      "text/html": [
       "<div>\n",
       "<style>\n",
       "    .dataframe thead tr:only-child th {\n",
       "        text-align: right;\n",
       "    }\n",
       "\n",
       "    .dataframe thead th {\n",
       "        text-align: left;\n",
       "    }\n",
       "\n",
       "    .dataframe tbody tr th {\n",
       "        vertical-align: top;\n",
       "    }\n",
       "</style>\n",
       "<table border=\"1\" class=\"dataframe\">\n",
       "  <thead>\n",
       "    <tr style=\"text-align: right;\">\n",
       "      <th></th>\n",
       "      <th>subjectID</th>\n",
       "      <th>tractID</th>\n",
       "      <th>nodeID</th>\n",
       "      <th>rd</th>\n",
       "      <th>md</th>\n",
       "      <th>cl</th>\n",
       "      <th>torsion</th>\n",
       "      <th>curvature</th>\n",
       "      <th>fa</th>\n",
       "      <th>ad</th>\n",
       "      <th>volume</th>\n",
       "    </tr>\n",
       "  </thead>\n",
       "  <tbody>\n",
       "    <tr>\n",
       "      <th>0</th>\n",
       "      <td>patient_01</td>\n",
       "      <td>Left Thalamic Radiation</td>\n",
       "      <td>0</td>\n",
       "      <td>0.613340</td>\n",
       "      <td>0.851832</td>\n",
       "      <td>0.257362</td>\n",
       "      <td>-0.065856</td>\n",
       "      <td>0.137844</td>\n",
       "      <td>0.452992</td>\n",
       "      <td>1.328816</td>\n",
       "      <td>70.0</td>\n",
       "    </tr>\n",
       "    <tr>\n",
       "      <th>1</th>\n",
       "      <td>patient_01</td>\n",
       "      <td>Left Thalamic Radiation</td>\n",
       "      <td>1</td>\n",
       "      <td>0.611204</td>\n",
       "      <td>0.848955</td>\n",
       "      <td>0.256652</td>\n",
       "      <td>-0.087893</td>\n",
       "      <td>0.153220</td>\n",
       "      <td>0.453549</td>\n",
       "      <td>1.324456</td>\n",
       "      <td>60.0</td>\n",
       "    </tr>\n",
       "    <tr>\n",
       "      <th>2</th>\n",
       "      <td>patient_01</td>\n",
       "      <td>Left Thalamic Radiation</td>\n",
       "      <td>2</td>\n",
       "      <td>0.608178</td>\n",
       "      <td>0.843154</td>\n",
       "      <td>0.254787</td>\n",
       "      <td>-0.244466</td>\n",
       "      <td>0.092622</td>\n",
       "      <td>0.452349</td>\n",
       "      <td>1.313105</td>\n",
       "      <td>76.0</td>\n",
       "    </tr>\n",
       "    <tr>\n",
       "      <th>3</th>\n",
       "      <td>patient_01</td>\n",
       "      <td>Left Thalamic Radiation</td>\n",
       "      <td>3</td>\n",
       "      <td>0.604815</td>\n",
       "      <td>0.837168</td>\n",
       "      <td>0.253062</td>\n",
       "      <td>-0.533194</td>\n",
       "      <td>0.027443</td>\n",
       "      <td>0.451471</td>\n",
       "      <td>1.301873</td>\n",
       "      <td>55.0</td>\n",
       "    </tr>\n",
       "    <tr>\n",
       "      <th>4</th>\n",
       "      <td>patient_01</td>\n",
       "      <td>Left Thalamic Radiation</td>\n",
       "      <td>4</td>\n",
       "      <td>0.601006</td>\n",
       "      <td>0.831444</td>\n",
       "      <td>0.251759</td>\n",
       "      <td>0.272117</td>\n",
       "      <td>0.047876</td>\n",
       "      <td>0.451726</td>\n",
       "      <td>1.292319</td>\n",
       "      <td>71.0</td>\n",
       "    </tr>\n",
       "  </tbody>\n",
       "</table>\n",
       "</div>"
      ],
      "text/plain": [
       "    subjectID                  tractID  nodeID        rd        md        cl  \\\n",
       "0  patient_01  Left Thalamic Radiation       0  0.613340  0.851832  0.257362   \n",
       "1  patient_01  Left Thalamic Radiation       1  0.611204  0.848955  0.256652   \n",
       "2  patient_01  Left Thalamic Radiation       2  0.608178  0.843154  0.254787   \n",
       "3  patient_01  Left Thalamic Radiation       3  0.604815  0.837168  0.253062   \n",
       "4  patient_01  Left Thalamic Radiation       4  0.601006  0.831444  0.251759   \n",
       "\n",
       "    torsion  curvature        fa        ad  volume  \n",
       "0 -0.065856   0.137844  0.452992  1.328816    70.0  \n",
       "1 -0.087893   0.153220  0.453549  1.324456    60.0  \n",
       "2 -0.244466   0.092622  0.452349  1.313105    76.0  \n",
       "3 -0.533194   0.027443  0.451471  1.301873    55.0  \n",
       "4  0.272117   0.047876  0.451726  1.292319    71.0  "
      ]
     },
     "execution_count": 7,
     "metadata": {},
     "output_type": "execute_result"
    }
   ],
   "source": [
    "nodes.head()"
   ]
  },
  {
   "cell_type": "markdown",
   "metadata": {},
   "source": [
    "For an example analysis, see our [example analysis](example-analysis.ipynb) notebook"
   ]
  },
  {
   "cell_type": "code",
   "execution_count": null,
   "metadata": {
    "collapsed": true
   },
   "outputs": [],
   "source": []
  }
 ],
 "metadata": {
  "kernelspec": {
   "display_name": "Python 3",
   "language": "python",
   "name": "python3"
  },
  "language_info": {
   "codemirror_mode": {
    "name": "ipython",
    "version": 3
   },
   "file_extension": ".py",
   "mimetype": "text/x-python",
   "name": "python",
   "nbconvert_exporter": "python",
   "pygments_lexer": "ipython3",
   "version": "3.5.4"
  }
 },
 "nbformat": 4,
 "nbformat_minor": 2
}
